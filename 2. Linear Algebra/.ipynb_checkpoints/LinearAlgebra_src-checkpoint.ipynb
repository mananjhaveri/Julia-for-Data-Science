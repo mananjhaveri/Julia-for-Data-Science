{
 "cells": [
  {
   "cell_type": "markdown",
   "metadata": {},
   "source": [
    "# Import Libraries"
   ]
  },
  {
   "cell_type": "code",
   "execution_count": 3,
   "metadata": {},
   "outputs": [
    {
     "name": "stderr",
     "output_type": "stream",
     "text": [
      "┌ Info: Precompiling Images [916415d5-f1e6-5110-898d-aaa5f9f070e0]\n",
      "└ @ Base loading.jl:1278\n"
     ]
    }
   ],
   "source": [
    "using LinearAlgebra\n",
    "using SparseArrays\n",
    "using Images\n",
    "using MAT"
   ]
  },
  {
   "cell_type": "markdown",
   "metadata": {},
   "source": [
    "# Vectors and Arrays "
   ]
  },
  {
   "cell_type": "code",
   "execution_count": 2,
   "metadata": {},
   "outputs": [],
   "source": [
    "A = rand(10, 10);\n",
    "A_transpose = A';"
   ]
  },
  {
   "cell_type": "code",
   "execution_count": 4,
   "metadata": {},
   "outputs": [
    {
     "data": {
      "text/plain": [
       "10×10 Array{Float64,2}:\n",
       " 4.04787  3.01258  3.81443  2.77276  …  3.8822   2.25245  2.72212  2.56855\n",
       " 3.01258  3.96437  3.23113  2.16631     3.12457  2.56042  2.62605  2.58301\n",
       " 3.81443  3.23113  4.58486  2.83431     3.68431  2.54437  2.96461  2.72841\n",
       " 2.77276  2.16631  2.83431  2.59084     2.63449  1.71175  1.63692  2.07629\n",
       " 3.53292  3.19532  4.10017  2.41709     3.56936  2.60445  2.84653  2.72591\n",
       " 2.98742  2.87463  2.83754  2.15824  …  2.77403  2.03744  1.87981  2.30276\n",
       " 3.8822   3.12457  3.68431  2.63449     4.10911  2.2451   3.2467   2.37734\n",
       " 2.25245  2.56042  2.54437  1.71175     2.2451   2.06263  1.68732  1.77533\n",
       " 2.72212  2.62605  2.96461  1.63692     3.2467   1.68732  3.23022  1.56558\n",
       " 2.56855  2.58301  2.72841  2.07629     2.37734  1.77533  1.56558  2.62783"
      ]
     },
     "execution_count": 4,
     "metadata": {},
     "output_type": "execute_result"
    }
   ],
   "source": [
    "A_mult = A * A_transpose"
   ]
  },
  {
   "cell_type": "code",
   "execution_count": 7,
   "metadata": {},
   "outputs": [],
   "source": [
    "# system of linear equations\n",
    "B = rand(10);\n",
    "X = A\\B; # solving for x in Ax = B"
   ]
  },
  {
   "cell_type": "code",
   "execution_count": 8,
   "metadata": {},
   "outputs": [
    {
     "name": "stdout",
     "output_type": "stream",
     "text": [
      "norm(A * X - B) = 1.3665217429949162e-15\n"
     ]
    },
    {
     "data": {
      "text/plain": [
       "1.3665217429949162e-15"
      ]
     },
     "execution_count": 8,
     "metadata": {},
     "output_type": "execute_result"
    }
   ],
   "source": [
    "# precision\n",
    "@show norm(A * X - B)"
   ]
  },
  {
   "cell_type": "markdown",
   "metadata": {},
   "source": [
    "A few things that are noteworthy: \n",
    "- `A` is a `Matrix` type, and `B` is a `Vector` type.\n",
    "- The transpose function creates a matrix of type `Adjoint`.\n",
    "- `\\` is always the recommended way to solve a linear system. You almost never want to call the `inv` function"
   ]
  },
  {
   "cell_type": "code",
   "execution_count": 11,
   "metadata": {},
   "outputs": [
    {
     "name": "stdout",
     "output_type": "stream",
     "text": [
      "typeof(A) = Array{Float64,2}\n",
      "typeof(A_transpose) = Adjoint{Float64,Array{Float64,2}}\n",
      "typeof(B) = Array{Float64,1}\n",
      "typeof(X) = Array{Float64,1}\n"
     ]
    },
    {
     "data": {
      "text/plain": [
       "Array{Float64,1}"
      ]
     },
     "execution_count": 11,
     "metadata": {},
     "output_type": "execute_result"
    }
   ],
   "source": [
    "@show typeof(A)\n",
    "@show typeof(A_transpose)\n",
    "@show typeof(B)\n",
    "@show typeof(X)"
   ]
  },
  {
   "cell_type": "code",
   "execution_count": 13,
   "metadata": {},
   "outputs": [
    {
     "name": "stdout",
     "output_type": "stream",
     "text": [
      "A_transpose.parent == A = true\n"
     ]
    }
   ],
   "source": [
    "# resort to original from adjoint\n",
    "@show A_transpose.parent == A;"
   ]
  }
 ],
 "metadata": {
  "kernelspec": {
   "display_name": "Julia 1.5.2",
   "language": "julia",
   "name": "julia-1.5"
  },
  "language_info": {
   "file_extension": ".jl",
   "mimetype": "application/julia",
   "name": "julia",
   "version": "1.5.2"
  }
 },
 "nbformat": 4,
 "nbformat_minor": 4
}
