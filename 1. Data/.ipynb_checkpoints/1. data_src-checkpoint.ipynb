{
 "cells": [
  {
   "cell_type": "markdown",
   "metadata": {},
   "source": [
    "# Importing packages"
   ]
  },
  {
   "cell_type": "code",
   "execution_count": 1,
   "metadata": {},
   "outputs": [],
   "source": [
    "using BenchmarkTools\n",
    "using DataFrames\n",
    "using DelimitedFiles\n",
    "using XLSX\n",
    "using CSV"
   ]
  },
  {
   "cell_type": "markdown",
   "metadata": {},
   "source": [
    "# Using  CSVs, DataFrames"
   ]
  },
  {
   "cell_type": "code",
   "execution_count": 3,
   "metadata": {},
   "outputs": [],
   "source": [
    "df = CSV.read(\"data_files/bse_500_symbols.csv\");"
   ]
  },
  {
   "cell_type": "code",
   "execution_count": 4,
   "metadata": {},
   "outputs": [
    {
     "data": {
      "text/html": [
       "<table class=\"data-frame\"><thead><tr><th></th><th>Symbol</th></tr><tr><th></th><th>String</th></tr></thead><tbody><p>6 rows × 1 columns</p><tr><th>1</th><td>HDFCBANK</td></tr><tr><th>2</th><td>RELIANCE</td></tr><tr><th>3</th><td>INFY</td></tr><tr><th>4</th><td>HCLTECH</td></tr><tr><th>5</th><td>BAJFINANCE</td></tr><tr><th>6</th><td>ICICIBANK</td></tr></tbody></table>"
      ],
      "text/latex": [
       "\\begin{tabular}{r|c}\n",
       "\t& Symbol\\\\\n",
       "\t\\hline\n",
       "\t& String\\\\\n",
       "\t\\hline\n",
       "\t1 & HDFCBANK \\\\\n",
       "\t2 & RELIANCE \\\\\n",
       "\t3 & INFY \\\\\n",
       "\t4 & HCLTECH \\\\\n",
       "\t5 & BAJFINANCE \\\\\n",
       "\t6 & ICICIBANK \\\\\n",
       "\\end{tabular}\n"
      ],
      "text/plain": [
       "6×1 DataFrame\n",
       "│ Row │ Symbol     │\n",
       "│     │ \u001b[90mString\u001b[39m     │\n",
       "├─────┼────────────┤\n",
       "│ 1   │ HDFCBANK   │\n",
       "│ 2   │ RELIANCE   │\n",
       "│ 3   │ INFY       │\n",
       "│ 4   │ HCLTECH    │\n",
       "│ 5   │ BAJFINANCE │\n",
       "│ 6   │ ICICIBANK  │"
      ]
     },
     "execution_count": 4,
     "metadata": {},
     "output_type": "execute_result"
    }
   ],
   "source": [
    "head(df)"
   ]
  },
  {
   "cell_type": "code",
   "execution_count": 5,
   "metadata": {},
   "outputs": [
    {
     "data": {
      "text/plain": [
       "1-element Array{String,1}:\n",
       " \"Symbol\""
      ]
     },
     "execution_count": 5,
     "metadata": {},
     "output_type": "execute_result"
    }
   ],
   "source": [
    "names(df)"
   ]
  },
  {
   "cell_type": "code",
   "execution_count": 6,
   "metadata": {},
   "outputs": [
    {
     "data": {
      "text/html": [
       "<table class=\"data-frame\"><thead><tr><th></th><th>variable</th><th>mean</th><th>min</th><th>median</th><th>max</th><th>nunique</th><th>nmissing</th><th>eltype</th></tr><tr><th></th><th>Symbol</th><th>Nothing</th><th>String</th><th>Nothing</th><th>String</th><th>Int64</th><th>Nothing</th><th>DataType</th></tr></thead><tbody><p>1 rows × 8 columns</p><tr><th>1</th><td>Symbol</td><td></td><td>3MINDIA</td><td></td><td>ZYDUSWELL</td><td>495</td><td></td><td>String</td></tr></tbody></table>"
      ],
      "text/latex": [
       "\\begin{tabular}{r|cccccccc}\n",
       "\t& variable & mean & min & median & max & nunique & nmissing & eltype\\\\\n",
       "\t\\hline\n",
       "\t& Symbol & Nothing & String & Nothing & String & Int64 & Nothing & DataType\\\\\n",
       "\t\\hline\n",
       "\t1 & Symbol &  & 3MINDIA &  & ZYDUSWELL & 495 &  & String \\\\\n",
       "\\end{tabular}\n"
      ],
      "text/plain": [
       "1×8 DataFrame. Omitted printing of 2 columns\n",
       "│ Row │ variable │ mean    │ min     │ median  │ max       │ nunique │\n",
       "│     │ \u001b[90mSymbol\u001b[39m   │ \u001b[90mNothing\u001b[39m │ \u001b[90mString\u001b[39m  │ \u001b[90mNothing\u001b[39m │ \u001b[90mString\u001b[39m    │ \u001b[90mInt64\u001b[39m   │\n",
       "├─────┼──────────┼─────────┼─────────┼─────────┼───────────┼─────────┤\n",
       "│ 1   │ Symbol   │         │ 3MINDIA │         │ ZYDUSWELL │ 495     │"
      ]
     },
     "execution_count": 6,
     "metadata": {},
     "output_type": "execute_result"
    }
   ],
   "source": [
    "describe(df)"
   ]
  },
  {
   "cell_type": "code",
   "execution_count": 6,
   "metadata": {},
   "outputs": [
    {
     "name": "stdout",
     "output_type": "stream",
     "text": [
      "  624.800 μs (979 allocations: 4.04 MiB)\n"
     ]
    },
    {
     "data": {
      "text/plain": [
       "\"data_export.csv\""
      ]
     },
     "execution_count": 6,
     "metadata": {},
     "output_type": "execute_result"
    }
   ],
   "source": [
    "# use @btime to calculate time\n",
    "# use DataFrame(some_var) to convert to DataFrame\n",
    "@btime CSV.write(\"data_files/data_export.csv\", DataFrame(df))"
   ]
  },
  {
   "cell_type": "markdown",
   "metadata": {},
   "source": [
    "# Using XLSX files\n",
    "\n",
    "XLSX.readtable(file_name, sheet_name, cell_range(optional))"
   ]
  },
  {
   "cell_type": "code",
   "execution_count": 10,
   "metadata": {},
   "outputs": [
    {
     "data": {
      "text/plain": [
       "(Any[Any[0.15175357844357995, 0.6905994349297802, 0.009428246661026818, 0.28581076385747517, 0.1393880542395829, 0.814807767905288, 0.9588993362292081, 0.6310877816373271, 0.8084462211268867, 0.7056113579035043  …  0.9049007389372572, 0.645285368595109, 0.2841870336122333, 0.5260016890924368, 0.7969964085979835, 0.0638623964847631, 0.2712596054407278, 0.6769000865455704, 0.5892018508921724, 0.8341945609508404], Any[7, 7, 9, 1, 9, 8, 7, 8, 3, 9  …  3, 7, 6, 4, 4, 9, 6, 1, 9, 5], Any[50, 77, 40, 66, 56, 96, 54, 62, 44, 63  …  63, 63, 78, 75, 75, 82, 74, 84, 76, 100]], [:Var_1, :Var_2, :Var_3])"
      ]
     },
     "execution_count": 10,
     "metadata": {},
     "output_type": "execute_result"
    }
   ],
   "source": [
    "table = XLSX.readtable(\"data_files/some_data.xlsx\", \"some_sheet\")"
   ]
  },
  {
   "cell_type": "code",
   "execution_count": 11,
   "metadata": {},
   "outputs": [
    {
     "data": {
      "text/plain": [
       "3-element Array{Any,1}:\n",
       " Any[0.15175357844357995, 0.6905994349297802, 0.009428246661026818, 0.28581076385747517, 0.1393880542395829, 0.814807767905288, 0.9588993362292081, 0.6310877816373271, 0.8084462211268867, 0.7056113579035043  …  0.9049007389372572, 0.645285368595109, 0.2841870336122333, 0.5260016890924368, 0.7969964085979835, 0.0638623964847631, 0.2712596054407278, 0.6769000865455704, 0.5892018508921724, 0.8341945609508404]\n",
       " Any[7, 7, 9, 1, 9, 8, 7, 8, 3, 9  …  3, 7, 6, 4, 4, 9, 6, 1, 9, 5]\n",
       " Any[50, 77, 40, 66, 56, 96, 54, 62, 44, 63  …  63, 63, 78, 75, 75, 82, 74, 84, 76, 100]"
      ]
     },
     "execution_count": 11,
     "metadata": {},
     "output_type": "execute_result"
    }
   ],
   "source": [
    "# values\n",
    "table[1]"
   ]
  },
  {
   "cell_type": "code",
   "execution_count": 12,
   "metadata": {},
   "outputs": [
    {
     "data": {
      "text/plain": [
       "3-element Array{Symbol,1}:\n",
       " :Var_1\n",
       " :Var_2\n",
       " :Var_3"
      ]
     },
     "execution_count": 12,
     "metadata": {},
     "output_type": "execute_result"
    }
   ],
   "source": [
    "# column names\n",
    "table[2]"
   ]
  },
  {
   "cell_type": "code",
   "execution_count": 13,
   "metadata": {},
   "outputs": [
    {
     "data": {
      "text/html": [
       "<table class=\"data-frame\"><thead><tr><th></th><th>Var_1</th><th>Var_2</th><th>Var_3</th></tr><tr><th></th><th>Any</th><th>Any</th><th>Any</th></tr></thead><tbody><p>24 rows × 3 columns</p><tr><th>1</th><td>0.151754</td><td>7</td><td>50</td></tr><tr><th>2</th><td>0.690599</td><td>7</td><td>77</td></tr><tr><th>3</th><td>0.00942825</td><td>9</td><td>40</td></tr><tr><th>4</th><td>0.285811</td><td>1</td><td>66</td></tr><tr><th>5</th><td>0.139388</td><td>9</td><td>56</td></tr><tr><th>6</th><td>0.814808</td><td>8</td><td>96</td></tr><tr><th>7</th><td>0.958899</td><td>7</td><td>54</td></tr><tr><th>8</th><td>0.631088</td><td>8</td><td>62</td></tr><tr><th>9</th><td>0.808446</td><td>3</td><td>44</td></tr><tr><th>10</th><td>0.705611</td><td>9</td><td>63</td></tr><tr><th>11</th><td>0.910964</td><td>3</td><td>87</td></tr><tr><th>12</th><td>0.237197</td><td>6</td><td>50</td></tr><tr><th>13</th><td>0.154198</td><td>10</td><td>35</td></tr><tr><th>14</th><td>0.466105</td><td>5</td><td>74</td></tr><tr><th>15</th><td>0.904901</td><td>3</td><td>63</td></tr><tr><th>16</th><td>0.645285</td><td>7</td><td>63</td></tr><tr><th>17</th><td>0.284187</td><td>6</td><td>78</td></tr><tr><th>18</th><td>0.526002</td><td>4</td><td>75</td></tr><tr><th>19</th><td>0.796996</td><td>4</td><td>75</td></tr><tr><th>20</th><td>0.0638624</td><td>9</td><td>82</td></tr><tr><th>21</th><td>0.27126</td><td>6</td><td>74</td></tr><tr><th>22</th><td>0.6769</td><td>1</td><td>84</td></tr><tr><th>23</th><td>0.589202</td><td>9</td><td>76</td></tr><tr><th>24</th><td>0.834195</td><td>5</td><td>100</td></tr></tbody></table>"
      ],
      "text/latex": [
       "\\begin{tabular}{r|ccc}\n",
       "\t& Var\\_1 & Var\\_2 & Var\\_3\\\\\n",
       "\t\\hline\n",
       "\t& Any & Any & Any\\\\\n",
       "\t\\hline\n",
       "\t1 & 0.151754 & 7 & 50 \\\\\n",
       "\t2 & 0.690599 & 7 & 77 \\\\\n",
       "\t3 & 0.00942825 & 9 & 40 \\\\\n",
       "\t4 & 0.285811 & 1 & 66 \\\\\n",
       "\t5 & 0.139388 & 9 & 56 \\\\\n",
       "\t6 & 0.814808 & 8 & 96 \\\\\n",
       "\t7 & 0.958899 & 7 & 54 \\\\\n",
       "\t8 & 0.631088 & 8 & 62 \\\\\n",
       "\t9 & 0.808446 & 3 & 44 \\\\\n",
       "\t10 & 0.705611 & 9 & 63 \\\\\n",
       "\t11 & 0.910964 & 3 & 87 \\\\\n",
       "\t12 & 0.237197 & 6 & 50 \\\\\n",
       "\t13 & 0.154198 & 10 & 35 \\\\\n",
       "\t14 & 0.466105 & 5 & 74 \\\\\n",
       "\t15 & 0.904901 & 3 & 63 \\\\\n",
       "\t16 & 0.645285 & 7 & 63 \\\\\n",
       "\t17 & 0.284187 & 6 & 78 \\\\\n",
       "\t18 & 0.526002 & 4 & 75 \\\\\n",
       "\t19 & 0.796996 & 4 & 75 \\\\\n",
       "\t20 & 0.0638624 & 9 & 82 \\\\\n",
       "\t21 & 0.27126 & 6 & 74 \\\\\n",
       "\t22 & 0.6769 & 1 & 84 \\\\\n",
       "\t23 & 0.589202 & 9 & 76 \\\\\n",
       "\t24 & 0.834195 & 5 & 100 \\\\\n",
       "\\end{tabular}\n"
      ],
      "text/plain": [
       "24×3 DataFrame\n",
       "│ Row │ Var_1      │ Var_2 │ Var_3 │\n",
       "│     │ \u001b[90mAny\u001b[39m        │ \u001b[90mAny\u001b[39m   │ \u001b[90mAny\u001b[39m   │\n",
       "├─────┼────────────┼───────┼───────┤\n",
       "│ 1   │ 0.151754   │ 7     │ 50    │\n",
       "│ 2   │ 0.690599   │ 7     │ 77    │\n",
       "│ 3   │ 0.00942825 │ 9     │ 40    │\n",
       "│ 4   │ 0.285811   │ 1     │ 66    │\n",
       "│ 5   │ 0.139388   │ 9     │ 56    │\n",
       "│ 6   │ 0.814808   │ 8     │ 96    │\n",
       "│ 7   │ 0.958899   │ 7     │ 54    │\n",
       "│ 8   │ 0.631088   │ 8     │ 62    │\n",
       "│ 9   │ 0.808446   │ 3     │ 44    │\n",
       "│ 10  │ 0.705611   │ 9     │ 63    │\n",
       "⋮\n",
       "│ 14  │ 0.466105   │ 5     │ 74    │\n",
       "│ 15  │ 0.904901   │ 3     │ 63    │\n",
       "│ 16  │ 0.645285   │ 7     │ 63    │\n",
       "│ 17  │ 0.284187   │ 6     │ 78    │\n",
       "│ 18  │ 0.526002   │ 4     │ 75    │\n",
       "│ 19  │ 0.796996   │ 4     │ 75    │\n",
       "│ 20  │ 0.0638624  │ 9     │ 82    │\n",
       "│ 21  │ 0.27126    │ 6     │ 74    │\n",
       "│ 22  │ 0.6769     │ 1     │ 84    │\n",
       "│ 23  │ 0.589202   │ 9     │ 76    │\n",
       "│ 24  │ 0.834195   │ 5     │ 100   │"
      ]
     },
     "execution_count": 13,
     "metadata": {},
     "output_type": "execute_result"
    }
   ],
   "source": [
    "df_from_excel = DataFrame(table... ) \n",
    "# equivalent to DataFrame(table[1], table[2])"
   ]
  },
  {
   "cell_type": "code",
   "execution_count": 18,
   "metadata": {},
   "outputs": [],
   "source": [
    "XLSX.writetable(\"df_export_to_excel.xlsx\", df_from_excel)"
   ]
  },
  {
   "cell_type": "markdown",
   "metadata": {},
   "source": [
    "# More on DataFrames"
   ]
  },
  {
   "cell_type": "code",
   "execution_count": 12,
   "metadata": {},
   "outputs": [
    {
     "data": {
      "text/html": [
       "<table class=\"data-frame\"><thead><tr><th></th><th>player</th><th>score</th></tr><tr><th></th><th>String</th><th>Int64</th></tr></thead><tbody><p>5 rows × 2 columns</p><tr><th>1</th><td>Dhoni</td><td>120</td></tr><tr><th>2</th><td>Kohli</td><td>100</td></tr><tr><th>3</th><td>Rohit</td><td>20</td></tr><tr><th>4</th><td>Jadeja</td><td>100</td></tr><tr><th>5</th><td>Dhavan</td><td>75</td></tr></tbody></table>"
      ],
      "text/latex": [
       "\\begin{tabular}{r|cc}\n",
       "\t& player & score\\\\\n",
       "\t\\hline\n",
       "\t& String & Int64\\\\\n",
       "\t\\hline\n",
       "\t1 & Dhoni & 120 \\\\\n",
       "\t2 & Kohli & 100 \\\\\n",
       "\t3 & Rohit & 20 \\\\\n",
       "\t4 & Jadeja & 100 \\\\\n",
       "\t5 & Dhavan & 75 \\\\\n",
       "\\end{tabular}\n"
      ],
      "text/plain": [
       "5×2 DataFrame\n",
       "│ Row │ player │ score │\n",
       "│     │ \u001b[90mString\u001b[39m │ \u001b[90mInt64\u001b[39m │\n",
       "├─────┼────────┼───────┤\n",
       "│ 1   │ Dhoni  │ 120   │\n",
       "│ 2   │ Kohli  │ 100   │\n",
       "│ 3   │ Rohit  │ 20    │\n",
       "│ 4   │ Jadeja │ 100   │\n",
       "│ 5   │ Dhavan │ 75    │"
      ]
     },
     "execution_count": 12,
     "metadata": {},
     "output_type": "execute_result"
    }
   ],
   "source": [
    "player = [\"Dhoni\", \"Kohli\", \"Rohit\", \"Jadeja\", \"Dhavan\"]\n",
    "score = [120, 100, 20, 100, 75]\n",
    "\n",
    "df_player_scores = DataFrame(player = player, score = score)"
   ]
  },
  {
   "cell_type": "code",
   "execution_count": 13,
   "metadata": {},
   "outputs": [
    {
     "data": {
      "text/html": [
       "<table class=\"data-frame\"><thead><tr><th></th><th>player</th><th>rank</th></tr><tr><th></th><th>String</th><th>Int64</th></tr></thead><tbody><p>5 rows × 2 columns</p><tr><th>1</th><td>Dhoni</td><td>1</td></tr><tr><th>2</th><td>Kohli</td><td>2</td></tr><tr><th>3</th><td>Rohit</td><td>5</td></tr><tr><th>4</th><td>Jadeja</td><td>3</td></tr><tr><th>5</th><td>Dhavan</td><td>4</td></tr></tbody></table>"
      ],
      "text/latex": [
       "\\begin{tabular}{r|cc}\n",
       "\t& player & rank\\\\\n",
       "\t\\hline\n",
       "\t& String & Int64\\\\\n",
       "\t\\hline\n",
       "\t1 & Dhoni & 1 \\\\\n",
       "\t2 & Kohli & 2 \\\\\n",
       "\t3 & Rohit & 5 \\\\\n",
       "\t4 & Jadeja & 3 \\\\\n",
       "\t5 & Dhavan & 4 \\\\\n",
       "\\end{tabular}\n"
      ],
      "text/plain": [
       "5×2 DataFrame\n",
       "│ Row │ player │ rank  │\n",
       "│     │ \u001b[90mString\u001b[39m │ \u001b[90mInt64\u001b[39m │\n",
       "├─────┼────────┼───────┤\n",
       "│ 1   │ Dhoni  │ 1     │\n",
       "│ 2   │ Kohli  │ 2     │\n",
       "│ 3   │ Rohit  │ 5     │\n",
       "│ 4   │ Jadeja │ 3     │\n",
       "│ 5   │ Dhavan │ 4     │"
      ]
     },
     "execution_count": 13,
     "metadata": {},
     "output_type": "execute_result"
    }
   ],
   "source": [
    "ranking = [1, 2, 5, 3, 4]\n",
    "df_player_ranks = DataFrame(player = player, rank = ranking)"
   ]
  },
  {
   "cell_type": "code",
   "execution_count": 14,
   "metadata": {},
   "outputs": [
    {
     "data": {
      "text/html": [
       "<table class=\"data-frame\"><thead><tr><th></th><th>player</th><th>score</th><th>rank</th></tr><tr><th></th><th>String</th><th>Int64</th><th>Int64</th></tr></thead><tbody><p>5 rows × 3 columns</p><tr><th>1</th><td>Dhoni</td><td>120</td><td>1</td></tr><tr><th>2</th><td>Kohli</td><td>100</td><td>2</td></tr><tr><th>3</th><td>Rohit</td><td>20</td><td>5</td></tr><tr><th>4</th><td>Jadeja</td><td>100</td><td>3</td></tr><tr><th>5</th><td>Dhavan</td><td>75</td><td>4</td></tr></tbody></table>"
      ],
      "text/latex": [
       "\\begin{tabular}{r|ccc}\n",
       "\t& player & score & rank\\\\\n",
       "\t\\hline\n",
       "\t& String & Int64 & Int64\\\\\n",
       "\t\\hline\n",
       "\t1 & Dhoni & 120 & 1 \\\\\n",
       "\t2 & Kohli & 100 & 2 \\\\\n",
       "\t3 & Rohit & 20 & 5 \\\\\n",
       "\t4 & Jadeja & 100 & 3 \\\\\n",
       "\t5 & Dhavan & 75 & 4 \\\\\n",
       "\\end{tabular}\n"
      ],
      "text/plain": [
       "5×3 DataFrame\n",
       "│ Row │ player │ score │ rank  │\n",
       "│     │ \u001b[90mString\u001b[39m │ \u001b[90mInt64\u001b[39m │ \u001b[90mInt64\u001b[39m │\n",
       "├─────┼────────┼───────┼───────┤\n",
       "│ 1   │ Dhoni  │ 120   │ 1     │\n",
       "│ 2   │ Kohli  │ 100   │ 2     │\n",
       "│ 3   │ Rohit  │ 20    │ 5     │\n",
       "│ 4   │ Jadeja │ 100   │ 3     │\n",
       "│ 5   │ Dhavan │ 75    │ 4     │"
      ]
     },
     "execution_count": 14,
     "metadata": {},
     "output_type": "execute_result"
    }
   ],
   "source": [
    "# join(a, b, on = :common_column_name)\n",
    "df_cricket = join(df_player_scores, df_player_ranks, on = :player)"
   ]
  },
  {
   "cell_type": "markdown",
   "metadata": {},
   "source": [
    "# ⬇️ Importing your data - Other file types and usage¶ "
   ]
  },
  {
   "cell_type": "markdown",
   "metadata": {},
   "source": [
    "### .jld\n",
    "```jl\n",
    "using JLD\n",
    "\n",
    "jld_data = JLD.load(\"data/mytempdata.jld\")\n",
    "\n",
    "save(\"mywrite.jld\", \"A\", jld_data)\n",
    "```"
   ]
  },
  {
   "cell_type": "markdown",
   "metadata": {},
   "source": [
    "### .npz\n",
    "```jl\n",
    "using NPZ\n",
    "npz_data = npzread(\"data/mytempdata.npz\")\n",
    "npzwrite(\"mywrite.npz\", npz_data\n",
    "```"
   ]
  },
  {
   "cell_type": "markdown",
   "metadata": {},
   "source": [
    "### .rda\n",
    "```jl\n",
    "using RData\n",
    "R_data = RData.load(\"data/mytempdata.rda\")\n",
    "# We'll need RCall to save here. https://github.com/JuliaData/RData.jl/issues/56\n",
    "using RCall\n",
    "@rput R_data\n",
    "R\"save(R_data, file=\\\"mywrite.rda\\\")\"\n",
    "```"
   ]
  },
  {
   "cell_type": "markdown",
   "metadata": {},
   "source": [
    "### .mat\n",
    "```jl\n",
    "using MAT\n",
    "Matlab_data = matread(\"data/mytempdata.mat\")\n",
    "matwrite(\"mywrite.mat\",Matlab_data)\n",
    "```"
   ]
  },
  {
   "cell_type": "markdown",
   "metadata": {},
   "source": [
    "# 🔢 Time to process the data from Julia "
   ]
  },
  {
   "cell_type": "code",
   "execution_count": 36,
   "metadata": {},
   "outputs": [
    {
     "data": {
      "text/plain": [
       "find_rank (generic function with 1 method)"
      ]
     },
     "execution_count": 36,
     "metadata": {},
     "output_type": "execute_result"
    }
   ],
   "source": [
    "function find_rank(df, player)\n",
    "    loc = findfirst(df[:, \"player\"] .== player)\n",
    "    !isnothing(loc) && return df[loc, \"rank\"]\n",
    "    error(\"player not found\")\n",
    "end"
   ]
  },
  {
   "cell_type": "code",
   "execution_count": 37,
   "metadata": {},
   "outputs": [
    {
     "data": {
      "text/plain": [
       "1"
      ]
     },
     "execution_count": 37,
     "metadata": {},
     "output_type": "execute_result"
    }
   ],
   "source": [
    "find_rank(df_cricket, \"Dhoni\")"
   ]
  },
  {
   "cell_type": "code",
   "execution_count": 38,
   "metadata": {},
   "outputs": [
    {
     "data": {
      "text/plain": [
       "find_count_above_100_score (generic function with 1 method)"
      ]
     },
     "execution_count": 38,
     "metadata": {},
     "output_type": "execute_result"
    }
   ],
   "source": [
    "function find_count_above_100_score(df)\n",
    "    count = length(findall(df[:, \"score\"] .>= 100))\n",
    "    return count \n",
    "end"
   ]
  },
  {
   "cell_type": "code",
   "execution_count": 39,
   "metadata": {},
   "outputs": [
    {
     "data": {
      "text/plain": [
       "3"
      ]
     },
     "execution_count": 39,
     "metadata": {},
     "output_type": "execute_result"
    }
   ],
   "source": [
    "find_count_above_100_score(df_cricket)"
   ]
  },
  {
   "cell_type": "markdown",
   "metadata": {},
   "source": [
    "### Dictionaries in Julia"
   ]
  },
  {
   "cell_type": "code",
   "execution_count": 4,
   "metadata": {},
   "outputs": [
    {
     "data": {
      "text/plain": [
       "Dict{String,Int64} with 3 entries:\n",
       "  \"B\" => 2\n",
       "  \"A\" => 1\n",
       "  \"C\" => 1"
      ]
     },
     "execution_count": 4,
     "metadata": {},
     "output_type": "execute_result"
    }
   ],
   "source": [
    "Dict([(\"A\", 1), (\"B\", 2),(\"C\", 1)])"
   ]
  },
  {
   "cell_type": "code",
   "execution_count": 6,
   "metadata": {},
   "outputs": [
    {
     "data": {
      "text/plain": [
       "Dict{String,Any} with 3 entries:\n",
       "  \"B\" => [1, 2]\n",
       "  \"A\" => 1\n",
       "  \"C\" => 3"
      ]
     },
     "execution_count": 6,
     "metadata": {},
     "output_type": "execute_result"
    }
   ],
   "source": [
    "Dict([(\"A\", 1), (\"B\", [1, 2]), (\"C\", 3)])"
   ]
  },
  {
   "cell_type": "code",
   "execution_count": 7,
   "metadata": {},
   "outputs": [
    {
     "data": {
      "text/plain": [
       "Dict{Any,Any} with 3 entries:\n",
       "  \"B\"        => [1, 2]\n",
       "  \"A\"        => 1\n",
       "  [\"C\", \"D\"] => 3"
      ]
     },
     "execution_count": 7,
     "metadata": {},
     "output_type": "execute_result"
    }
   ],
   "source": [
    "Dict([(\"A\", 1), (\"B\", [1, 2]), ([\"C\", \"D\"], 3)])"
   ]
  },
  {
   "cell_type": "code",
   "execution_count": 8,
   "metadata": {},
   "outputs": [
    {
     "data": {
      "text/plain": [
       "Dict{Integer,Array{String,1}}()"
      ]
     },
     "execution_count": 8,
     "metadata": {},
     "output_type": "execute_result"
    }
   ],
   "source": [
    "# declaring a dict withou values\n",
    "sample_dictionary = Dict{Integer,Vector{String}}()"
   ]
  },
  {
   "cell_type": "code",
   "execution_count": 11,
   "metadata": {},
   "outputs": [
    {
     "data": {
      "text/plain": [
       "Dict{Integer,Array{String,1}} with 2 entries:\n",
       "  2 => [\"Python\", \"SQL\"]\n",
       "  1 => [\"I\", \"love\", \"Julia\"]"
      ]
     },
     "execution_count": 11,
     "metadata": {},
     "output_type": "execute_result"
    }
   ],
   "source": [
    "sample_dictionary[1] = [\"I\", \"love\", \"Julia\"]\n",
    "sample_dictionary[2] = [\"Python\", \"SQL\"]\n",
    "\n",
    "sample_dictionary"
   ]
  },
  {
   "cell_type": "code",
   "execution_count": 29,
   "metadata": {},
   "outputs": [
    {
     "data": {
      "text/plain": [
       "Dict{String,Integer} with 5 entries:\n",
       "  \"Kohli\"  => 2\n",
       "  \"Dhoni\"  => 1\n",
       "  \"Rohit\"  => 5\n",
       "  \"Jadeja\" => 3\n",
       "  \"Dhavan\" => 4"
      ]
     },
     "execution_count": 29,
     "metadata": {},
     "output_type": "execute_result"
    }
   ],
   "source": [
    "cricket_dict = Dict{String, Integer}()\n",
    "\n",
    "for i in 1:length(player)\n",
    "    cricket_dict[player[i]] =  ranking[i]\n",
    "end\n",
    "\n",
    "cricket_dict"
   ]
  },
  {
   "cell_type": "code",
   "execution_count": 30,
   "metadata": {},
   "outputs": [
    {
     "data": {
      "text/plain": [
       "Dict{Integer,Integer}()"
      ]
     },
     "execution_count": 30,
     "metadata": {},
     "output_type": "execute_result"
    }
   ],
   "source": [
    "k = rand(1:10, 20)\n",
    "v = rand(1:100, 20)\n",
    "\n",
    "kv_dict = Dict{Integer, Integer}()"
   ]
  },
  {
   "cell_type": "code",
   "execution_count": 31,
   "metadata": {},
   "outputs": [],
   "source": [
    "for i in 1:length(k)\n",
    "    if k[i] in keys(kv_dict)\n",
    "        kv_dict[k[i]] = kv_dict[k[i]] + v[i]\n",
    "    else\n",
    "        kv_dict[k[i]] = v[i]\n",
    "    end\n",
    "end    "
   ]
  },
  {
   "cell_type": "markdown",
   "metadata": {},
   "source": [
    "kv_dict"
   ]
  },
  {
   "cell_type": "code",
   "execution_count": 35,
   "metadata": {},
   "outputs": [
    {
     "data": {
      "text/plain": [
       "8-element Array{Int64,1}:\n",
       "  7\n",
       " 10\n",
       "  6\n",
       "  8\n",
       "  4\n",
       "  3\n",
       "  9\n",
       "  1"
      ]
     },
     "execution_count": 35,
     "metadata": {},
     "output_type": "execute_result"
    }
   ],
   "source": [
    "unique(k)"
   ]
  },
  {
   "cell_type": "code",
   "execution_count": 37,
   "metadata": {},
   "outputs": [
    {
     "data": {
      "text/plain": [
       "(Integer[7, 4, 9, 10, 3, 8, 6, 1], Integer[78, 406, 48, 8, 60, 146, 14, 118])"
      ]
     },
     "execution_count": 37,
     "metadata": {},
     "output_type": "execute_result"
    }
   ],
   "source": [
    "keys(kv_dict), values(kv_dict)"
   ]
  },
  {
   "cell_type": "markdown",
   "metadata": {},
   "source": [
    "### Missing data\n",
    "dropmissing()"
   ]
  },
  {
   "cell_type": "markdown",
   "metadata": {},
   "source": [
    "### <br> <br> <br> THE END!!!"
   ]
  }
 ],
 "metadata": {
  "kernelspec": {
   "display_name": "Julia 1.5.2",
   "language": "julia",
   "name": "julia-1.5"
  },
  "language_info": {
   "file_extension": ".jl",
   "mimetype": "application/julia",
   "name": "julia",
   "version": "1.5.2"
  }
 },
 "nbformat": 4,
 "nbformat_minor": 4
}
